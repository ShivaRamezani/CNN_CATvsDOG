{
 "cells": [
  {
   "cell_type": "code",
   "execution_count": 1,
   "metadata": {},
   "outputs": [],
   "source": [
    "from tensorflow.keras.utils import to_categorical\n",
    "from tensorflow.keras.models import Sequential\n",
    "from tensorflow.keras.layers import Conv2D, MaxPool2D, Dense, Flatten\n",
    "from tensorflow.keras.optimizers import Adam\n",
    "from tensorflow.keras.preprocessing.image import ImageDataGenerator"
   ]
  },
  {
   "cell_type": "code",
   "execution_count": 2,
   "metadata": {},
   "outputs": [
    {
     "name": "stdout",
     "output_type": "stream",
     "text": [
      "Found 16139 images belonging to 2 classes.\n"
     ]
    }
   ],
   "source": [
    "data_generator = ImageDataGenerator(\n",
    "    rescale=1.0/255.0,\n",
    "    zoom_range=0.4,\n",
    "    horizontal_flip=True,\n",
    "    vertical_flip=True,\n",
    "    rotation_range=50,\n",
    "    width_shift_range=0.3,\n",
    "    height_shift_range=0.3,\n",
    "    shear_range=0.4,\n",
    "    fill_mode='nearest'\n",
    ")\n",
    "train = data_generator.flow_from_directory('PetImages/', class_mode='binary', batch_size=50, target_size=(200, 200))"
   ]
  },
  {
   "cell_type": "code",
   "execution_count": 3,
   "metadata": {},
   "outputs": [
    {
     "data": {
      "text/plain": [
       "<keras_preprocessing.image.directory_iterator.DirectoryIterator at 0x7f7b501941d0>"
      ]
     },
     "execution_count": 3,
     "metadata": {},
     "output_type": "execute_result"
    }
   ],
   "source": [
    "train"
   ]
  },
  {
   "cell_type": "code",
   "execution_count": 4,
   "metadata": {},
   "outputs": [
    {
     "name": "stdout",
     "output_type": "stream",
     "text": [
      "Found 1666 images belonging to 2 classes.\n"
     ]
    }
   ],
   "source": [
    "test = data_generator.flow_from_directory('PetImagesTest/', class_mode='binary', batch_size=50, target_size=(200, 200))"
   ]
  },
  {
   "cell_type": "code",
   "execution_count": 5,
   "metadata": {},
   "outputs": [],
   "source": [
    "model = Sequential()\n",
    "model.add(Conv2D(32, (3, 3), activation='relu', padding='same', input_shape=(200, 200, 3)))\n",
    "model.add(MaxPool2D((2, 2)))\n",
    "model.add(Flatten())\n",
    "model.add(Dense(1, activation='sigmoid'))"
   ]
  },
  {
   "cell_type": "code",
   "execution_count": 6,
   "metadata": {},
   "outputs": [
    {
     "name": "stdout",
     "output_type": "stream",
     "text": [
      "Model: \"sequential\"\n",
      "_________________________________________________________________\n",
      "Layer (type)                 Output Shape              Param #   \n",
      "=================================================================\n",
      "conv2d (Conv2D)              (None, 200, 200, 32)      896       \n",
      "_________________________________________________________________\n",
      "max_pooling2d (MaxPooling2D) (None, 100, 100, 32)      0         \n",
      "_________________________________________________________________\n",
      "flatten (Flatten)            (None, 320000)            0         \n",
      "_________________________________________________________________\n",
      "dense (Dense)                (None, 1)                 320001    \n",
      "=================================================================\n",
      "Total params: 320,897\n",
      "Trainable params: 320,897\n",
      "Non-trainable params: 0\n",
      "_________________________________________________________________\n"
     ]
    }
   ],
   "source": [
    "model.summary()"
   ]
  },
  {
   "cell_type": "code",
   "execution_count": 7,
   "metadata": {},
   "outputs": [],
   "source": [
    "model.compile(optimizer=Adam(), loss='binary_crossentropy', metrics=['accuracy'])"
   ]
  },
  {
   "cell_type": "code",
   "execution_count": 13,
   "metadata": {},
   "outputs": [
    {
     "name": "stdout",
     "output_type": "stream",
     "text": [
      "** Path: PetImagesTest/Dog/11740.jpg  **\r"
     ]
    }
   ],
   "source": [
    "import os\n",
    "from PIL import Image\n",
    "folder_path = 'PetImagesTest'\n",
    "extensions = []\n",
    "for fldr in os.listdir(folder_path):\n",
    "    sub_folder_path = os.path.join(folder_path, fldr)\n",
    "    for filee in os.listdir(sub_folder_path):\n",
    "        file_path = os.path.join(sub_folder_path, filee)\n",
    "        print('** Path: {}  **'.format(file_path), end=\"\\r\", flush=True)\n",
    "        im = Image.open(file_path)\n",
    "        rgb_im = im.convert('RGB')\n",
    "        if filee.split('.')[1] not in extensions:\n",
    "            extensions.append(filee.split('.')[1])"
   ]
  },
  {
   "cell_type": "code",
   "execution_count": 8,
   "metadata": {},
   "outputs": [
    {
     "name": "stdout",
     "output_type": "stream",
     "text": [
      "WARNING:tensorflow:From <ipython-input-8-b9224335e213>:1: Model.fit_generator (from tensorflow.python.keras.engine.training) is deprecated and will be removed in a future version.\n",
      "Instructions for updating:\n",
      "Please use Model.fit, which supports generators.\n",
      "Epoch 1/30\n",
      "323/323 [==============================] - 280s 867ms/step - loss: 0.7727 - accuracy: 0.5710 - val_loss: 0.6616 - val_accuracy: 0.6200\n",
      "Epoch 2/30\n",
      "323/323 [==============================] - 277s 859ms/step - loss: 0.6593 - accuracy: 0.5911 - val_loss: 0.6473 - val_accuracy: 0.6128\n",
      "Epoch 3/30\n",
      "323/323 [==============================] - 277s 859ms/step - loss: 0.6541 - accuracy: 0.6002 - val_loss: 0.7031 - val_accuracy: 0.5204\n",
      "Epoch 4/30\n",
      "323/323 [==============================] - 278s 861ms/step - loss: 0.6568 - accuracy: 0.6059 - val_loss: 0.6483 - val_accuracy: 0.6170\n",
      "Epoch 5/30\n",
      "323/323 [==============================] - 277s 858ms/step - loss: 0.6534 - accuracy: 0.6038 - val_loss: 0.6368 - val_accuracy: 0.6297\n",
      "Epoch 6/30\n",
      "323/323 [==============================] - 278s 859ms/step - loss: 0.6515 - accuracy: 0.6058 - val_loss: 0.6535 - val_accuracy: 0.5930\n",
      "Epoch 7/30\n",
      "323/323 [==============================] - 277s 858ms/step - loss: 0.6514 - accuracy: 0.6049 - val_loss: 0.6406 - val_accuracy: 0.6224\n",
      "Epoch 8/30\n",
      "323/323 [==============================] - 277s 859ms/step - loss: 0.6521 - accuracy: 0.6000 - val_loss: 0.6545 - val_accuracy: 0.6038\n",
      "Epoch 9/30\n",
      "323/323 [==============================] - 277s 857ms/step - loss: 0.6497 - accuracy: 0.6088 - val_loss: 0.6371 - val_accuracy: 0.6182\n",
      "Epoch 10/30\n",
      "323/323 [==============================] - 278s 860ms/step - loss: 0.6468 - accuracy: 0.6082 - val_loss: 0.6413 - val_accuracy: 0.5996\n",
      "Epoch 11/30\n",
      "323/323 [==============================] - 278s 860ms/step - loss: 0.6529 - accuracy: 0.6025 - val_loss: 0.6384 - val_accuracy: 0.6146\n",
      "Epoch 12/30\n",
      "323/323 [==============================] - 277s 857ms/step - loss: 0.6518 - accuracy: 0.6028 - val_loss: 0.6435 - val_accuracy: 0.6068\n",
      "Epoch 13/30\n",
      "323/323 [==============================] - 277s 859ms/step - loss: 0.6473 - accuracy: 0.6104 - val_loss: 0.6522 - val_accuracy: 0.5978\n",
      "Epoch 14/30\n",
      "323/323 [==============================] - 278s 859ms/step - loss: 0.6509 - accuracy: 0.6013 - val_loss: 0.6448 - val_accuracy: 0.5966\n",
      "Epoch 15/30\n",
      "323/323 [==============================] - 277s 858ms/step - loss: 0.6495 - accuracy: 0.6027 - val_loss: 0.6462 - val_accuracy: 0.6134\n",
      "Epoch 16/30\n",
      "323/323 [==============================] - 277s 859ms/step - loss: 0.6491 - accuracy: 0.6012 - val_loss: 0.6464 - val_accuracy: 0.5984\n",
      "Epoch 17/30\n",
      "323/323 [==============================] - 277s 858ms/step - loss: 0.6522 - accuracy: 0.5967 - val_loss: 0.6412 - val_accuracy: 0.6224\n",
      "Epoch 18/30\n",
      "323/323 [==============================] - 278s 860ms/step - loss: 0.6471 - accuracy: 0.6054 - val_loss: 0.6386 - val_accuracy: 0.6267\n",
      "Epoch 19/30\n",
      "323/323 [==============================] - 277s 857ms/step - loss: 0.6478 - accuracy: 0.6114 - val_loss: 0.6467 - val_accuracy: 0.6128\n",
      "Epoch 20/30\n",
      "323/323 [==============================] - 277s 858ms/step - loss: 0.6475 - accuracy: 0.6080 - val_loss: 0.6254 - val_accuracy: 0.6212\n",
      "Epoch 21/30\n",
      "323/323 [==============================] - 277s 858ms/step - loss: 0.6466 - accuracy: 0.6047 - val_loss: 0.6244 - val_accuracy: 0.6128\n",
      "Epoch 22/30\n",
      "323/323 [==============================] - 277s 858ms/step - loss: 0.6490 - accuracy: 0.6070 - val_loss: 0.6449 - val_accuracy: 0.5996\n",
      "Epoch 23/30\n",
      "323/323 [==============================] - 277s 858ms/step - loss: 0.6439 - accuracy: 0.6077 - val_loss: 0.6345 - val_accuracy: 0.6158\n",
      "Epoch 24/30\n",
      "323/323 [==============================] - 277s 859ms/step - loss: 0.6533 - accuracy: 0.6069 - val_loss: 0.6528 - val_accuracy: 0.5936\n",
      "Epoch 25/30\n",
      "323/323 [==============================] - 277s 858ms/step - loss: 0.6457 - accuracy: 0.6066 - val_loss: 0.6373 - val_accuracy: 0.6236\n",
      "Epoch 26/30\n",
      "323/323 [==============================] - 277s 857ms/step - loss: 0.6449 - accuracy: 0.6107 - val_loss: 0.6364 - val_accuracy: 0.6321\n",
      "Epoch 27/30\n",
      "323/323 [==============================] - 277s 856ms/step - loss: 0.6391 - accuracy: 0.6164 - val_loss: 0.6234 - val_accuracy: 0.6206\n",
      "Epoch 28/30\n",
      "323/323 [==============================] - 277s 857ms/step - loss: 0.6422 - accuracy: 0.6181 - val_loss: 0.6549 - val_accuracy: 0.6206\n",
      "Epoch 29/30\n",
      "323/323 [==============================] - 277s 858ms/step - loss: 0.6431 - accuracy: 0.6168 - val_loss: 0.6341 - val_accuracy: 0.6321\n",
      "Epoch 30/30\n",
      "323/323 [==============================] - 277s 857ms/step - loss: 0.6461 - accuracy: 0.6130 - val_loss: 0.6414 - val_accuracy: 0.6230\n"
     ]
    }
   ],
   "source": [
    "history = model.fit_generator(train, steps_per_epoch=len(train), validation_data=test, validation_steps=len(test), epochs=30)"
   ]
  },
  {
   "cell_type": "code",
   "execution_count": 9,
   "metadata": {},
   "outputs": [
    {
     "data": {
      "text/plain": [
       "[<matplotlib.lines.Line2D at 0x7f7a74111a10>]"
      ]
     },
     "execution_count": 9,
     "metadata": {},
     "output_type": "execute_result"
    },
    {
     "data": {
      "image/png": "[encoded data removed]",
      "text/plain": [
       "<Figure size 432x288 with 1 Axes>"
      ]
     },
     "metadata": {
      "needs_background": "light"
     },
     "output_type": "display_data"
    }
   ],
   "source": [
    "import matplotlib.pyplot as plt\n",
    "plt.plot(history.history['accuracy'], color='green')\n",
    "plt.plot(history.history['val_accuracy'], color='blue')"
   ]
  },
  {
   "cell_type": "code",
   "execution_count": 10,
   "metadata": {},
   "outputs": [],
   "source": [
    "model.save('catvsdog.h5')"
   ]
  }
 ],
 "metadata": {
  "kernelspec": {
   "display_name": "Python 3",
   "language": "python",
   "name": "python3"
  },
  "language_info": {
   "codemirror_mode": {
    "name": "ipython",
    "version": 3
   },
   "file_extension": ".py",
   "mimetype": "text/x-python",
   "name": "python",
   "nbconvert_exporter": "python",
   "pygments_lexer": "ipython3",
   "version": "3.7.6"
  }
 },
 "nbformat": 4,
 "nbformat_minor": 4
}
